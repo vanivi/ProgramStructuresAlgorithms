{
  "nbformat": 4,
  "nbformat_minor": 0,
  "metadata": {
    "colab": {
      "provenance": []
    },
    "kernelspec": {
      "name": "python3",
      "display_name": "Python 3"
    },
    "language_info": {
      "name": "python"
    }
  },
  "cells": [
    {
      "cell_type": "markdown",
      "source": [
        "###Q1"
      ],
      "metadata": {
        "id": "tinHOUj6pXx5"
      }
    },
    {
      "cell_type": "code",
      "source": [
        "def ballPath(maze, start, destination):\n",
        "    m, n = len(maze), len(maze[0])\n",
        "    visited = set()\n",
        "    \n",
        "    def dfs(x, y):\n",
        "        if [x, y] == destination:\n",
        "            return True\n",
        "        if (x, y) in visited:\n",
        "            return False\n",
        "        visited.add((x, y))\n",
        "        \n",
        "        # roll up\n",
        "        i = x\n",
        "        while i > 0 and maze[i-1][y] != 'x':\n",
        "            i -= 1\n",
        "        if dfs(i, y):\n",
        "            return True\n",
        "        \n",
        "        # roll down\n",
        "        i = x\n",
        "        while i < m-1 and maze[i+1][y] != 'x':\n",
        "            i += 1\n",
        "        if dfs(i, y):\n",
        "            return True\n",
        "        \n",
        "        # roll left\n",
        "        j = y\n",
        "        while j > 0 and maze[x][j-1] != 'x':\n",
        "            j -= 1\n",
        "        if dfs(x, j):\n",
        "            return True\n",
        "        \n",
        "        # roll right\n",
        "        j = y\n",
        "        while j < n-1 and maze[x][j+1] != 'x':\n",
        "            j += 1\n",
        "        if dfs(x, j):\n",
        "            return True\n",
        "        \n",
        "        return False\n",
        "    \n",
        "    return dfs(start[0], start[1])\n"
      ],
      "metadata": {
        "id": "H3okIc7_8Z1Y"
      },
      "execution_count": null,
      "outputs": []
    },
    {
      "cell_type": "markdown",
      "source": [
        "### Q2"
      ],
      "metadata": {
        "id": "aS9bfNPDQotL"
      }
    },
    {
      "cell_type": "code",
      "source": [
        "class Solution:\n",
        "    def gameOfLife(self, board: List[List[int]]) -> None:\n",
        "        m, n = len(board), len(board[0])\n",
        " \n",
        "        def in_bounds(row:int, col:int) -> bool:\n",
        "            if row < 0 or col < 0 or row >= m or col >= n:\n",
        "                return False\n",
        "            return True\n",
        " \n",
        "        def count_neighbors(row:int, col:int) -> int:\n",
        "            neighbors = [(1,0),(0,1),(-1,0),(0,-1),(-1,-1),(-1,1),(1,-1),(1,1)]\n",
        "            lives = 0\n",
        "            for neighbor in neighbors:\n",
        "                next_row, next_col = row+neighbor[0], col+neighbor[1]\n",
        "                if in_bounds(next_row, next_col):\n",
        "                    if abs(board[next_row][next_col]) == 1:\n",
        "                        lives += 1\n",
        "            return lives\n",
        "       \n",
        "        def dead_or_alive(row:int, col:int, lives:int, now:int) -> int:\n",
        "            alive = board[row][col] == 1\n",
        "            if alive and lives < 2:\n",
        "                return -1\n",
        "            elif alive and lives > 3:\n",
        "                return -1\n",
        "            elif not alive and lives == 3:\n",
        "                return 2\n",
        "            else:\n",
        "                return now\n",
        "\n",
        "        for row in range(m):\n",
        "            for col in range(n):\n",
        "                now = board[row][col]\n",
        "                lives = count_neighbors(row,col)\n",
        "                board[row][col] = dead_or_alive(row, col, lives, now)\n",
        "       \n",
        "        for row in range(m):\n",
        "            for col in range(n):\n",
        "                if board[row][col] > 0:\n",
        "                    board[row][col] = 1\n",
        "                else:\n",
        "                    board[row][col] = 0"
      ],
      "metadata": {
        "id": "sKOL8oX4QqW5"
      },
      "execution_count": null,
      "outputs": []
    },
    {
      "cell_type": "markdown",
      "source": [
        "### Q3 A"
      ],
      "metadata": {
        "id": "g3LfojytWYpD"
      }
    },
    {
      "cell_type": "code",
      "source": [
        "def find_largest_pos(arr, start, end):\n",
        "    if start == end:\n",
        "        return start\n",
        "    \n",
        "    mid = (start + end) // 2\n",
        "    left_largest_pos = find_largest_pos(arr, start, mid)\n",
        "    right_largest_pos = find_largest_pos(arr, mid+1, end)\n",
        "    \n",
        "    if arr[left_largest_pos] >= arr[right_largest_pos]:\n",
        "        return left_largest_pos\n",
        "    else:\n",
        "        return right_largest_pos"
      ],
      "metadata": {
        "id": "OOeu1XoUWbSB"
      },
      "execution_count": null,
      "outputs": []
    },
    {
      "cell_type": "markdown",
      "source": [
        "### Q3 B"
      ],
      "metadata": {
        "id": "oT2T9gQFbN80"
      }
    },
    {
      "cell_type": "code",
      "source": [
        "def find_min_max(arr, start, end):\n",
        "    if start == end:\n",
        "        return (arr[start], arr[start])\n",
        "    elif start + 1 == end:\n",
        "        if arr[start] < arr[end]:\n",
        "            return (arr[start], arr[end])\n",
        "        else:\n",
        "            return (arr[end], arr[start])\n",
        "    else:\n",
        "        mid = (start + end) // 2\n",
        "        left_min, left_max = find_min_max(arr, start, mid)\n",
        "        right_min, right_max = find_min_max(arr, mid+1, end)\n",
        "        return (min(left_min, right_min), max(left_max, right_max))"
      ],
      "metadata": {
        "id": "tfrig2QJbQuu"
      },
      "execution_count": null,
      "outputs": []
    },
    {
      "cell_type": "markdown",
      "source": [
        "### Q4"
      ],
      "metadata": {
        "id": "fU9jgZFdhpqI"
      }
    },
    {
      "cell_type": "code",
      "source": [
        "from collections import defaultdict\n",
        "class UnionFind:\n",
        "    def __init__(self, n):\n",
        "        self.parent = list(range(n))\n",
        "        self.rank = [0] * n\n",
        "\n",
        "    def find(self, x):\n",
        "        if self.parent[x] != x:\n",
        "            self.parent[x] = self.find(self.parent[x])\n",
        "        return self.parent[x]\n",
        "\n",
        "    def union(self, x, y):\n",
        "        x_root = self.find(x)\n",
        "        y_root = self.find(y)\n",
        "        if x_root == y_root:\n",
        "            return False\n",
        "        if self.rank[x_root] < self.rank[y_root]:\n",
        "            self.parent[x_root] = y_root\n",
        "        elif self.rank[x_root] > self.rank[y_root]:\n",
        "            self.parent[y_root] = x_root\n",
        "        else:\n",
        "            self.parent[y_root] = x_root\n",
        "            self.rank[x_root] += 1\n",
        "        return True\n",
        "\n",
        "def kruskal(graph):\n",
        "    vertex_map = {}\n",
        "    idx = 0\n",
        "    for u, v, w in graph:\n",
        "        if u not in vertex_map:\n",
        "            vertex_map[u] = idx\n",
        "            idx += 1\n",
        "        if v not in vertex_map:\n",
        "            vertex_map[v] = idx\n",
        "            idx += 1\n",
        "    # Convert vertices to indices in the graph representation\n",
        "    graph = [(vertex_map[u], vertex_map[v], w) for u, v, w in graph]\n",
        "    # Sort edges by weight\n",
        "    edges = sorted(graph, key=lambda x: x[2])\n",
        "    uf = UnionFind(len(graph))\n",
        "    mst = []\n",
        "    for edge in edges:\n",
        "        u, v, w = edge\n",
        "        # Check if edge creates a cycle\n",
        "        if uf.union(u, v):\n",
        "            mst.append((list(vertex_map.keys())[list(vertex_map.values()).index(u)], \n",
        "                        list(vertex_map.keys())[list(vertex_map.values()).index(v)], w))\n",
        "        if len(mst) == len(vertex_map) - 1:\n",
        "            break\n",
        "    # total cost of the minimum spanning tree\n",
        "    total_cost = sum(w for u, v, w in mst)\n",
        "    return mst, total_cost\n",
        "\n",
        "graph = [('A', 'B', 2), ('C', 'D', 2), ('D', 'E', 2),\n",
        "         ('B', 'C', 3), ('B', 'E', 3), ('E', 'F', 3),\n",
        "         ('A', 'E', 4), ('A', 'C', 5), ('D', 'F', 5)]\n",
        "mst, total_cost = kruskal(graph)\n",
        "print(\"Minimum Spanning Tree:\")\n",
        "for edge in mst:\n",
        "    print(edge[0], \"-\", edge[1], \":\", edge[2])\n",
        "print(\"Total cost:\", total_cost)"
      ],
      "metadata": {
        "colab": {
          "base_uri": "https://localhost:8080/"
        },
        "id": "ptxbceC-mUXZ",
        "outputId": "93d4262e-1a40-40a1-82a4-c16550beadc7"
      },
      "execution_count": null,
      "outputs": [
        {
          "output_type": "stream",
          "name": "stdout",
          "text": [
            "Minimum Spanning Tree:\n",
            "A - B : 2\n",
            "C - D : 2\n",
            "D - E : 2\n",
            "B - C : 3\n",
            "E - F : 3\n",
            "Total cost: 12\n"
          ]
        }
      ]
    },
    {
      "cell_type": "markdown",
      "source": [
        "### Q5"
      ],
      "metadata": {
        "id": "b8HE-ZBPveJd"
      }
    },
    {
      "cell_type": "code",
      "source": [
        "import heapq\n",
        "def prim(graph, start):\n",
        "    visited = set()\n",
        "    mst = []\n",
        "    total_cost = 0\n",
        "    pq = [(0, None, start)]\n",
        "    while pq:\n",
        "        weight, u, v = heapq.heappop(pq)\n",
        "        if v not in visited:\n",
        "            visited.add(v)\n",
        "            if u is not None:\n",
        "                mst.append((u, v, weight))\n",
        "                total_cost += weight\n",
        "            for neighbor, weight in graph[v]:\n",
        "                heapq.heappush(pq, (weight, v, neighbor))\n",
        "    return mst, total_cost\n",
        "graph = {\n",
        "    'A': [('B', 5), ('D', 8)],\n",
        "    'B': [('A', 5), ('C', 2), ('E', 6)],\n",
        "    'C': [('B', 2), ('E', 3), ('D', 6), ('F', 3)],\n",
        "    'D': [('A', 8), ('C', 6), ('F', 4)],\n",
        "    'E': [('B', 6), ('C', 3)],\n",
        "    'F': [('C', 3), ('D', 4)]\n",
        "}\n",
        "mst, total_cost = prim(graph, 'A')\n",
        "print(\"Minimum Spanning Tree:\")\n",
        "for u, v, weight in mst:\n",
        "    print(u, \"--\", v, \":\", weight)\n",
        "print(\"Total Cost:\", total_cost)"
      ],
      "metadata": {
        "colab": {
          "base_uri": "https://localhost:8080/"
        },
        "id": "qGF9g8440TV2",
        "outputId": "a86cb71f-cc8d-4cdf-9429-346d0b47bbd0"
      },
      "execution_count": null,
      "outputs": [
        {
          "output_type": "stream",
          "name": "stdout",
          "text": [
            "Minimum Spanning Tree:\n",
            "A -- B : 5\n",
            "B -- C : 2\n",
            "C -- E : 3\n",
            "C -- F : 3\n",
            "F -- D : 4\n",
            "Total Cost: 17\n"
          ]
        }
      ]
    },
    {
      "cell_type": "markdown",
      "source": [
        "### Q6"
      ],
      "metadata": {
        "id": "H7vyuBqA7ET8"
      }
    },
    {
      "cell_type": "code",
      "source": [
        "def bellman_ford(graph, start):\n",
        "    # Step 1: Initialize distances and predecessors\n",
        "    distances = {node: float('inf') for node in graph}\n",
        "    distances[start] = 0\n",
        "    \n",
        "    # Step 2: Relax edges repeatedly\n",
        "    for _ in range(len(graph) - 1):\n",
        "        for node in graph:\n",
        "            for neighbor, weight in graph[node].items():\n",
        "                new_distance = distances[node] + weight\n",
        "                if new_distance < distances[neighbor]:\n",
        "                    distances[neighbor] = new_distance\n",
        "    \n",
        "    # Step 3: Check for negative cycles\n",
        "    for node in graph:\n",
        "        for neighbor, weight in graph[node].items():\n",
        "            if distances[node] + weight < distances[neighbor]:\n",
        "                raise ValueError('Negative cycle detected')\n",
        "    \n",
        "    return distances, distances['G']\n",
        "\n",
        "graph = {\n",
        "    'A': {'B': 6, 'C': 5, 'D': 5, 'E': 0},\n",
        "    'B': {'E': -1},\n",
        "    'C': {'B': -2, 'E': 1},\n",
        "    'D': {'C': -2, 'F': -1},\n",
        "    'E': {'G': 3},\n",
        "    'F': {'G': 3},\n",
        "    'G': {}\n",
        "}\n",
        "\n",
        "distances = bellman_ford(graph, 'A')\n",
        "print(distances)"
      ],
      "metadata": {
        "colab": {
          "base_uri": "https://localhost:8080/"
        },
        "id": "3ktHz-YA7GFr",
        "outputId": "1ca6aa4c-9dea-499f-8c3c-eaa6d36e89cd"
      },
      "execution_count": 60,
      "outputs": [
        {
          "output_type": "stream",
          "name": "stdout",
          "text": [
            "({'A': 0, 'B': 1, 'C': 3, 'D': 5, 'E': 0, 'F': 4, 'G': 3}, 3)\n"
          ]
        }
      ]
    },
    {
      "cell_type": "markdown",
      "source": [
        "### Q10"
      ],
      "metadata": {
        "id": "xo7dAvWEGqQV"
      }
    },
    {
      "cell_type": "code",
      "source": [
        "def minCostConnectPoints(points):\n",
        "    def manhattan_distance(p1, p2):\n",
        "        return abs(p1[0] - p2[0]) + abs(p1[1] - p2[1])\n",
        "\n",
        "    edges = []\n",
        "    for i in range(len(points)):\n",
        "        for j in range(i+1, len(points)):\n",
        "            edges.append((i, j, manhattan_distance(points[i], points[j])))\n",
        "    edges.sort(key=lambda e: e[2])\n",
        "    parent = list(range(len(points)))\n",
        "    \n",
        "    def find(node):\n",
        "        if parent[node] != node:\n",
        "            parent[node] = find(parent[node])\n",
        "        return parent[node]\n",
        "    \n",
        "    def merge(u, v):\n",
        "        parent[find(u)] = find(v)\n",
        "    \n",
        "    # Find the MST using Kruskal's algorithm\n",
        "    mst = []\n",
        "    for u, v, w in edges:\n",
        "        if find(u) != find(v):\n",
        "            mst.append((u, v, w))\n",
        "            merge(u, v)\n",
        "            if len(mst) == len(points) - 1:\n",
        "                break\n",
        "    return sum(w for u, v, w in mst)\n",
        "\n",
        "points = [[0,0], [2,2], [3,10], [5,2], [7,0]]\n",
        "print(minCostConnectPoints(points))"
      ],
      "metadata": {
        "colab": {
          "base_uri": "https://localhost:8080/"
        },
        "id": "HJqDc_eBGrdW",
        "outputId": "544be73c-a7d9-4921-b2f3-9b92aa7d8a83"
      },
      "execution_count": 7,
      "outputs": [
        {
          "output_type": "stream",
          "name": "stdout",
          "text": [
            "20\n"
          ]
        }
      ]
    }
  ]
}